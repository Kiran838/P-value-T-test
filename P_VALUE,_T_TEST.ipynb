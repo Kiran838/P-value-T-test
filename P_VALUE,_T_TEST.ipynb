{
  "nbformat": 4,
  "nbformat_minor": 0,
  "metadata": {
    "colab": {
      "name": "P-VALUE, T-TEST.ipynb",
      "provenance": [],
      "collapsed_sections": []
    },
    "kernelspec": {
      "name": "python3",
      "display_name": "Python 3"
    },
    "language_info": {
      "name": "python"
    }
  },
  "cells": [
    {
      "cell_type": "code",
      "metadata": {
        "id": "J6ufr2uXUxKQ"
      },
      "source": [
        "ages=[10,20,30,35,50,32,55,19,23,58,47,49,12,17,33,52,8,77,82]"
      ],
      "execution_count": null,
      "outputs": []
    },
    {
      "cell_type": "code",
      "metadata": {
        "colab": {
          "base_uri": "https://localhost:8080/"
        },
        "id": "U0rdzHaVV6gA",
        "outputId": "4fd48ee9-a59d-4d25-a50e-8cedcbe09ac7"
      },
      "source": [
        "import numpy as np\n",
        "ages_mean=np.mean(ages)\n",
        "print(ages_mean)"
      ],
      "execution_count": null,
      "outputs": [
        {
          "output_type": "stream",
          "text": [
            "37.31578947368421\n"
          ],
          "name": "stdout"
        }
      ]
    },
    {
      "cell_type": "code",
      "metadata": {
        "id": "i6IaKaVeWI61"
      },
      "source": [
        "sample_size=10\n",
        "age_sample=np.random.choice(ages,sample_size)"
      ],
      "execution_count": null,
      "outputs": []
    },
    {
      "cell_type": "code",
      "metadata": {
        "colab": {
          "base_uri": "https://localhost:8080/"
        },
        "id": "WRugeXe_W661",
        "outputId": "97f205a7-e5bd-4e3c-ce2d-e71946893402"
      },
      "source": [
        "age_sample"
      ],
      "execution_count": null,
      "outputs": [
        {
          "output_type": "execute_result",
          "data": {
            "text/plain": [
              "array([32, 32, 55, 20, 33, 12, 10,  8, 32, 35])"
            ]
          },
          "metadata": {
            "tags": []
          },
          "execution_count": 15
        }
      ]
    },
    {
      "cell_type": "code",
      "metadata": {
        "id": "_78beIXMW-CX"
      },
      "source": [
        "from scipy.stats import ttest_1samp"
      ],
      "execution_count": null,
      "outputs": []
    },
    {
      "cell_type": "code",
      "metadata": {
        "id": "8lWsdrxQXeUN"
      },
      "source": [
        "ttest,p_value=ttest_1samp(age_sample,37)"
      ],
      "execution_count": null,
      "outputs": []
    },
    {
      "cell_type": "code",
      "metadata": {
        "colab": {
          "base_uri": "https://localhost:8080/"
        },
        "id": "tCcs065sYFkH",
        "outputId": "9a24f7ce-d9c4-47a0-b06b-992fec06559b"
      },
      "source": [
        "print(ttest)\n",
        "print(p_value)"
      ],
      "execution_count": null,
      "outputs": [
        {
          "output_type": "stream",
          "text": [
            "-2.20815218136878\n",
            "0.05460961082422344\n"
          ],
          "name": "stdout"
        }
      ]
    },
    {
      "cell_type": "code",
      "metadata": {
        "colab": {
          "base_uri": "https://localhost:8080/"
        },
        "id": "BoPrku-5YTRO",
        "outputId": "eb2d22fe-4466-4d58-b52f-e5f43c41d25f"
      },
      "source": [
        "if p_value<0.05:\n",
        "  print(\"Accepting null hypothesis\")\n",
        "else:\n",
        "  print(\"Rejecting null hypothesis\")  "
      ],
      "execution_count": null,
      "outputs": [
        {
          "output_type": "stream",
          "text": [
            "Rejecting null hypothesis\n"
          ],
          "name": "stdout"
        }
      ]
    },
    {
      "cell_type": "markdown",
      "metadata": {
        "id": "5ay_r7OQd9-1"
      },
      "source": [
        "Hence it is concluded that we are rejecting the null hypothesis"
      ]
    }
  ]
}